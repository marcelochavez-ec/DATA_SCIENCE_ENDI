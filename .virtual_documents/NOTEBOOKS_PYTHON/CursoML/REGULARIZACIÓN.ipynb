

























































































# Importar librerías necesarias
import numpy as np
import matplotlib.pyplot as plt
import seaborn as sns
import pandas as pd
from sklearn.linear_model import Ridge, Lasso
from sklearn.datasets import load_diabetes
from sklearn.model_selection import train_test_split
from sklearn.preprocessing import StandardScaler
from sklearn.metrics import mean_squared_error

# Establecer estilo de gráficos con Seaborn
sns.set(style="whitegrid")

# 1. Cargar el dataset de Diabetes
diabetes = load_diabetes()
X, y = diabetes.data, diabetes.target  # Variables predictoras y objetivo

# 2. Convertir a DataFrame para mejor visualización
df = pd.DataFrame(X, columns=diabetes.feature_names)
df["target"] = y

# Mostrar las primeras filas del dataset
print(df.head())

# 3. Dividir en conjuntos de entrenamiento y prueba (80% - 20%)
X_train, X_test, y_train, y_test = train_test_split(X, y, test_size=0.2, random_state=42)

# 4. Estandarizar los datos para mejorar la estabilidad numérica
scaler = StandardScaler()
X_train_scaled = scaler.fit_transform(X_train)
X_test_scaled = scaler.transform(X_test)

# 5. Ajustar modelos Ridge (L2) y Lasso (L1)
ridge = Ridge(alpha=1.0)  # Regularización L2
lasso = Lasso(alpha=0.1)  # Regularización L1

ridge.fit(X_train_scaled, y_train)
lasso.fit(X_train_scaled, y_train)

# 6. Evaluar los modelos con RMSE (Root Mean Squared Error)
y_pred_ridge = ridge.predict(X_test_scaled)
y_pred_lasso = lasso.predict(X_test_scaled)

rmse_ridge = np.sqrt(mean_squared_error(y_test, y_pred_ridge))
rmse_lasso = np.sqrt(mean_squared_error(y_test, y_pred_lasso))

print(f"RMSE Ridge (L2): {rmse_ridge:.2f}")
print(f"RMSE Lasso (L1): {rmse_lasso:.2f}")

# 7. Graficar los coeficientes de Ridge y Lasso con colores pastel
plt.figure(figsize=(12, 5))

# Colores pastel personalizados
ridge_color = "#89CFF0"  # Azul pastel
lasso_color = "#FFB6C1"  # Rosa pastel

plt.subplot(1, 2, 1)
plt.bar(diabetes.feature_names, ridge.coef_, color=ridge_color)
plt.xticks(rotation=45)
plt.title("Coeficientes - Ridge (L2)", fontsize=14)
plt.xlabel("Variables", fontsize=12)
plt.ylabel("Coeficiente", fontsize=12)

plt.subplot(1, 2, 2)
plt.bar(diabetes.feature_names, lasso.coef_, color=lasso_color)
plt.xticks(rotation=45)
plt.title("Coeficientes - Lasso (L1)", fontsize=14)
plt.xlabel("Variables", fontsize=12)
plt.ylabel("Coeficiente", fontsize=12)

plt.tight_layout()
plt.show()






