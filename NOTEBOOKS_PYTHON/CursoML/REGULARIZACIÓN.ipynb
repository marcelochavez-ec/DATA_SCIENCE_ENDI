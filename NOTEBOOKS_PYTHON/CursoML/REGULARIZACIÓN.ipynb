{
 "cells": [
  {
   "cell_type": "markdown",
   "id": "bcf58d63-57bc-414b-855c-0a4871627784",
   "metadata": {},
   "source": [
    "<h2><font color=\"#004D7F\" size=6><b>Taller:</b> Regularización</font></h2>\n",
    "\n",
    "\n",
    "\n",
    "<h1><font color=\"#004D7F\" size=5>Algoritmos de Machine Learning</font></h1>\n",
    "\n",
    "<br><br>\n",
    "<div style=\"text-align: right\">\n",
    "<font color=\"#004D7F\" size=3>Marcelo Chávez</font><br>\n",
    "<font color=\"#004D7F\" size=3>Machine Learning con Python</font><br>"
   ]
  },
  {
   "cell_type": "markdown",
   "id": "853ad3fa-c0bf-4697-9ab5-7998b39a59d7",
   "metadata": {
    "jp-MarkdownHeadingCollapsed": true
   },
   "source": [
    "# **Regularización**\n",
    "\n",
    "La **regularización** es una técnica utilizada en modelos estadísticos y de aprendizaje automático para prevenir el sobreajuste, añadiendo una penalización a la magnitud de los coeficientes del modelo. Su objetivo es mejorar la generalización del modelo sobre datos no vistos.  \n",
    "\n",
    "Matemáticamente, la regularización se implementa agregando un término de penalización a la función de pérdida. En el caso de la regresión lineal, se expresa como:\n",
    "\n",
    "$$\n",
    "\\min_{\\boldsymbol{\\beta}} \\sum_{i=1}^{n} \\left( y_i - \\boldsymbol{x}_i^\\top \\boldsymbol{\\beta} \\right)^2 + \\lambda R(\\boldsymbol{\\beta})\n",
    "$$\n",
    "\n",
    "donde:\n",
    "- $\\lambda$ es el parámetro de regularización que controla la penalización.\n",
    "- $R(\\boldsymbol{\\beta})$ es la función de regularización, que puede ser:\n",
    "  - **Lasso (L1)**: $R(\\boldsymbol{\\beta}) = \\sum_{j} |\\beta_j|$, que induce modelos más esparcidos.\n",
    "  - **Ridge (L2)**: $R(\\boldsymbol{\\beta}) = \\sum_{j} \\beta_j^2$, que reduce la varianza sin forzar coeficientes a cero.\n",
    "  - **Elastic Net**: combinación de L1 y L2.\n",
    "\n",
    "**Fuente:** Hastie, T., Tibshirani, R., & Friedman, J. (2009). *The Elements of Statistical Learning*. Springer."
   ]
  },
  {
   "cell_type": "markdown",
   "id": "7c7ce2fb-27ec-4228-a692-edff92bcfebf",
   "metadata": {},
   "source": [
    "# **Objetivos**\n",
    "* Resolver problemas mal planteados (ill-posed-problems)\n",
    "* Obtener soluciones esparcidas (soluciones con muchos ceros)"
   ]
  },
  {
   "cell_type": "markdown",
   "id": "91dd9ec8-e942-4ccf-ace3-b65e9c088ff9",
   "metadata": {},
   "source": [
    "$$\n",
    "Y_i = \\beta_0 + \\beta_1 X_1 + \\beta_2 X_2 + \\dots + \\beta_{100} X_{100} + \\varepsilon_i\n",
    "$$"
   ]
  },
  {
   "cell_type": "markdown",
   "id": "436abc2d-b1ad-40b4-9567-fcc73954b521",
   "metadata": {},
   "source": [
    "Sea el vector de coeficientes:\n",
    "\n",
    "$$\n",
    "\\boldsymbol{\\beta} =\n",
    "\\begin{bmatrix}\n",
    "1, & 0.5, & 0, & 0, & 0, & 0, & 0, & 0, & 0, & 6, & 8, & 9, & \\dots, & 0, & 5\n",
    "\\end{bmatrix}\n",
    "$$\n",
    "\n",
    "Donde la mayoría de los valores son ceros, y algunos coeficientes con valores $\\neq 0$ dispersos en el vector."
   ]
  },
  {
   "cell_type": "markdown",
   "id": "6f3b93e7-5078-4191-9966-34980893a6e1",
   "metadata": {},
   "source": [
    "## **Resolver problemas mal planteados**"
   ]
  },
  {
   "cell_type": "markdown",
   "id": "77cebdbb-6221-4131-b08a-9e1fbad8989c",
   "metadata": {},
   "source": [
    "* Problemas al invertir $X^{T}X$:"
   ]
  },
  {
   "cell_type": "markdown",
   "id": "43b619b1-684f-4b2f-9941-879f81af37e0",
   "metadata": {},
   "source": [
    "Gauss propuso la siguiente solucion: $\\hat{\\beta}=(X^{T}X)^{-1}X^{T}y$"
   ]
  },
  {
   "cell_type": "markdown",
   "id": "767c582d-40b5-46ca-8a5c-8fb109a8a16a",
   "metadata": {},
   "source": [
    "$$\n",
    "\\begin{bmatrix}\n",
    "y_1 \\\\\n",
    "y_2 \\\\\n",
    "\\vdots \\\\\n",
    "y_n\n",
    "\\end{bmatrix}\n",
    "=\n",
    "\\begin{bmatrix}\n",
    "1 & x_{1,1} & x_{1,2} & \\dots & x_{1,p} \\\\\n",
    "1 & x_{2,1} & x_{2,2} & \\dots & x_{2,p} \\\\\n",
    "\\vdots & \\vdots & \\vdots & \\ddots & \\vdots \\\\\n",
    "1 & x_{n,1} & x_{n,2} & \\dots & x_{n,p}\n",
    "\\end{bmatrix}\n",
    "\\begin{bmatrix}\n",
    "\\beta_0 \\\\\n",
    "\\beta_1 \\\\\n",
    "\\vdots \\\\\n",
    "\\beta_p\n",
    "\\end{bmatrix}\n",
    "+\n",
    "\\begin{bmatrix}\n",
    "\\varepsilon_1 \\\\\n",
    "\\varepsilon_2 \\\\\n",
    "\\vdots \\\\\n",
    "\\varepsilon_n\n",
    "\\end{bmatrix}\n",
    "$$\n"
   ]
  },
  {
   "cell_type": "markdown",
   "id": "0ba40a7f-4e69-4ed1-bce4-94587601d676",
   "metadata": {},
   "source": [
    "* Reducir la multicolinealidad:"
   ]
  },
  {
   "cell_type": "markdown",
   "id": "f3db9088-f606-4139-94bd-2402605bee5e",
   "metadata": {},
   "source": [
    "# 📌 Multicolinealidad en Regresión Lineal  \n",
    "\n",
    "## 🔹 ¿Qué es la Multicolinealidad?  \n",
    "La **multicolinealidad** ocurre cuando dos o más variables predictoras en un modelo de regresión están altamente correlacionadas, lo que dificulta estimar con precisión los coeficientes del modelo.  \n",
    "\n",
    "Cuando esto sucede, el modelo puede volverse inestable y los coeficientes pueden cambiar drásticamente con pequeños cambios en los datos.  \n",
    "\n",
    "---\n",
    "\n",
    "## 🔹 Tipos de Multicolinealidad  \n",
    "Existen dos tipos principales:  \n",
    "\n",
    "1. **Multicolinealidad Perfecta**:  \n",
    "   - Ocurre cuando una variable predictora es una combinación exacta de otras variables.  \n",
    "   - Ejemplo: Si $X_3 = 2X_1 + 3X_2$, entonces hay colinealidad perfecta.  \n",
    "\n",
    "2. **Multicolinealidad Imperfecta**:  \n",
    "   - Ocurre cuando las variables están altamente correlacionadas, pero no son combinaciones exactas entre sí.  \n",
    "\n",
    "---\n",
    "\n",
    "## 🔹 Problemas que Causa la Multicolinealidad  \n",
    "✅ Dificultad para interpretar los coeficientes $\\beta$.  \n",
    "✅ Aumento en la varianza de los estimadores.  \n",
    "✅ Signos y magnitudes inestables en los coeficientes.  \n",
    "✅ El **estadístico $t$** puede no ser significativo aunque el modelo tenga un buen ajuste $R^2$.  \n",
    "\n",
    "Matemáticamente, la varianza de los coeficientes en regresión lineal se expresa como:  \n",
    "\n",
    "$$\n",
    "\\text{Var}(\\hat{\\beta}) = \\sigma^2 (\\mathbf{X}^T \\mathbf{X})^{-1}\n",
    "$$\n",
    "\n",
    "Si $\\mathbf{X}^T \\mathbf{X}$ es **casi singular** (es decir, tiene valores propios cercanos a 0), la varianza de los coeficientes será muy grande, lo que indica problemas de multicolinealidad.  \n",
    "\n",
    "---\n",
    "\n",
    "## 🔹 ¿Cómo Detectarla?  \n",
    "Algunas formas comunes de detectar multicolinealidad incluyen:  \n",
    "\n",
    "1. **Matriz de correlación**: Si las variables tienen coeficientes de correlación altos $(> 0.8)$, puede haber colinealidad.  \n",
    "2. **Factor de Inflación de la Varianza (VIF)**:  \n",
    "\n",
    "   $$\n",
    "   VIF(\\beta_j) = \\frac{1}{1 - R_j^2}\n",
    "   $$\n",
    "\n",
    "   Si $VIF > 10$, hay un problema grave de multicolinealidad.  \n",
    "\n",
    "---\n",
    "\n",
    "## 🔹 ¿Cómo Solucionarla?  \n",
    "🔸 **Eliminar variables altamente correlacionadas**.  \n",
    "🔸 **Realizar una transformación (PCA, Regresión Ridge|Lasso)**.  \n",
    "🔸 **Obtener más datos** (si es posible).  \n",
    "🔸 **Combinar variables correlacionadas en una sola variable representativa**.  \n",
    "\n",
    "---\n",
    "\n",
    "**Conclusión**: La multicolinealidad no siempre es un problema si el objetivo del modelo es la predicción. Sin embargo, si se busca interpretar los coeficientes, es crucial identificar y corregir la colinealidad para obtener estimaciones confiables.  \n",
    "\n",
    "---\n",
    "\n",
    "📌 *Referencias:*  \n",
    "- James, G., Witten, D., Hastie, T., & Tibshirani, R. (2013). *An Introduction to Statistical Learning*.  \n",
    "- Montgomery, D. C., Peck, E. A., & Vining, G. G. (2012). *Introduction to Linear Regression Analysis*."
   ]
  },
  {
   "cell_type": "markdown",
   "id": "3c70b6a8-ae6f-4d12-80c1-3c1fa0048348",
   "metadata": {},
   "source": [
    "## **Regresión LASSO y Ridge**"
   ]
  },
  {
   "cell_type": "markdown",
   "id": "1204c967-47af-4f1c-bf17-95748ae3ea7b",
   "metadata": {},
   "source": [
    "- Su finalidad es encontrar estimadores para los coeficientes de la regresión lineal $\\beta$ con un riesgo menor que el de mínimos cuadrados.\n",
    "- Dos grandes ventajas frente a métodos heurísticos (como stepwise) sus soluciones son más rápidas y tienen mayores garantías teóricas.\n",
    "- El estimador para la regresión lasso minimiza la suma del error cuadrático medio más una medida de complejidad del vector $\\beta$"
   ]
  },
  {
   "cell_type": "markdown",
   "id": "774d7b2a-912f-4b51-b5e3-ac377507cd38",
   "metadata": {},
   "source": [
    "### **Como medir la complejidad de $\\beta$**"
   ]
  },
  {
   "cell_type": "markdown",
   "id": "e9dd15bd-81b0-4b2e-b714-56a7ad17b84e",
   "metadata": {},
   "source": [
    "Una alternativa es contar el número de variables que están siendo usadas en el modelo, es decir:\n",
    "$$p = \\sum_{i=1}^{d}\\Pi(\\beta_{i}\\neq 0)$$\n",
    "* Siendo $p$ el número de variables utilizadas por el modelo.\n",
    "* El número de $\\beta_{i}$ que son diferentes de 0.\n",
    "* Esto es conocido como la _**norma 0**_ del vector, denotado por: $\\left\\|\\beta\\right\\|_{L_{0}}$"
   ]
  },
  {
   "cell_type": "markdown",
   "id": "e1af3846-c0ed-466c-ae84-9aef8c8a961c",
   "metadata": {},
   "source": [
    "### **Norma $L_{1}$**"
   ]
  },
  {
   "cell_type": "markdown",
   "id": "07e24c8a-16fa-4625-8c04-9834c9b51aad",
   "metadata": {},
   "source": [
    "Sin duda, no es lo mismo un $\\hat{\\beta}_{r}=0.1$ que $\\hat{\\beta}_{r}=100$, por lo tanto podemos usar otros tipos de normas.\n",
    "La regresión LASSO se basa justamente en la norma $L_{1}$ dads por $$\\|\\beta\\|_{L_1} = \\sum_{i=1}^{d} |\\beta_i|$$"
   ]
  },
  {
   "cell_type": "markdown",
   "id": "c97d9ddb-724b-4499-88da-e50d0c04df0a",
   "metadata": {},
   "source": [
    "### **Norma $L_{2}$** _(la norma más usada en ML)_"
   ]
  },
  {
   "cell_type": "markdown",
   "id": "092c13e4-862f-4ca7-976a-bf3212d9cffb",
   "metadata": {},
   "source": [
    "Ahora, noten que para un valor entre cercano a cero (digamos entre -1 y 1), se tiene que:\n"
   ]
  },
  {
   "cell_type": "markdown",
   "id": "abaa6930-a268-4946-9432-f4b8fd6d6709",
   "metadata": {},
   "source": [
    "$\\hat{\\beta}_{r}=0.1$  y  $\\hat{\\beta}^{2}_{r}=100$"
   ]
  },
  {
   "cell_type": "markdown",
   "id": "586f58ba-b4f2-42e7-810f-8f82fdd20bd9",
   "metadata": {},
   "source": [
    "En cambio, la regresión _*Ridge*_ se basa en la normal $L_{2}$ dada por:"
   ]
  },
  {
   "cell_type": "markdown",
   "id": "bc9dd524-4e09-4084-af92-bc9f01c87beb",
   "metadata": {},
   "source": [
    "$$\\|\\beta\\|_{L_2} = \\sum_{i=1}^{d} \\beta^2_i$$"
   ]
  },
  {
   "cell_type": "markdown",
   "id": "7f875ad5-0b7c-4a89-b6e8-6313b4e299cb",
   "metadata": {},
   "source": [
    "#### **Medidas de esparsidad y/o penalización**"
   ]
  },
  {
   "cell_type": "markdown",
   "id": "3e19b49e-f0a0-496b-9a7f-38b4880ecd89",
   "metadata": {},
   "source": [
    "| Valores de $\\beta$                              | Valores de $\\sum_{j=1}^{d} I (\\beta_j \\neq 0)$ | Penalización Lasso $L_{1} = \\sum_{j=1}^{d} |\\beta_j|$ | Penalización Ridge $L_{2} = \\sum_{j=1}^{d} \\beta_j^2$ |\n",
    "|:-----------------------------------------------:|:-----------------------------------------------------------:|:--------------------------------------------------------:|:--------------------------------------------------------:|\n",
    "|               $(0, 0, 0, 0, 0, 0, 0, 0, 0, 0)$                |                             0                                  |                          0                                  |                          0.0                                |\n",
    "| $(0.1, 0.1, 0.1, 0.1, 0.1, 0.1, 0.1, 0.1, 0.1, 0.1)$ |                       10                   |                          1                                  |                          0.1                                |\n",
    "|               $(1, 1, 1, 1, 1, 1, 1, 1, 1, 1)$                |                       10                    |                         10                                  |                          10.0                               |"
   ]
  },
  {
   "cell_type": "markdown",
   "id": "d06e28e1-1366-4066-9683-4305d3a4bbac",
   "metadata": {},
   "source": [
    "<div style=\"background-color: #f8d7da; border-color: #f5c6cb; color: #721c24; padding: 10px; border-radius: 5px;\">\n",
    "    <i class=\"fa fa-exclamation-circle\" aria-hidden=\"true\"></i>\n",
    "    $L_{1}$ penaliza más fuertemente a los valores cercanos a 0\n",
    "</div>"
   ]
  },
  {
   "cell_type": "markdown",
   "id": "373dc4b8-14d0-4ea6-8c3f-14fb0c2733df",
   "metadata": {},
   "source": [
    "<div style=\"background-color: #cce5ff; border-color: #b8daff; color: #004085; padding: 10px; border-radius: 5px;\">\n",
    "    <i class=\"fa fa-exclamation-circle\" aria-hidden=\"true\"></i>\n",
    "    A mayor la norma, mayor el número de betas alejados del cero\n",
    "</div>"
   ]
  },
  {
   "cell_type": "markdown",
   "id": "ca379416-a4f1-4f9c-af57-21d4a801df08",
   "metadata": {},
   "source": [
    "## **Modelo Lasso** "
   ]
  },
  {
   "cell_type": "markdown",
   "id": "efa9bb9a-4cfe-4d4a-b0d9-5d574cee9794",
   "metadata": {},
   "source": [
    "Formalmente, la solución está dada por:"
   ]
  },
  {
   "cell_type": "markdown",
   "id": "5caacda7-32ed-4248-b587-12b2b71d1dfa",
   "metadata": {},
   "source": [
    "El modelo Lasso se define como:\n",
    "\n",
    "$$\n",
    "\\hat{\\beta}_{L_{1}} = \\underset{\\beta \\in \\mathbb{R}^d}{\\text{argmin}} \\sum_{i=1}^{n} (y_i - \\hat{y}_i)^2 + \\lambda \\|\\beta\\|_{L_1}\n",
    "$$\n",
    "\n",
    "donde:\n",
    "- $ \\hat{\\beta} $ son los coeficientes estimados,\n",
    "- $ y_i $ es la variable dependiente,\n",
    "- $ \\hat{y}_i $ son las predicciones del modelo,\n",
    "- $ \\lambda $ es el parámetro de penalización,\n",
    "- $ \\beta_j $ son los coeficientes del modelo."
   ]
  },
  {
   "cell_type": "markdown",
   "id": "96b2235c-b282-4e28-92e4-9eb4109fa213",
   "metadata": {},
   "source": []
  },
  {
   "cell_type": "code",
   "execution_count": 4,
   "id": "3be1bb0e-80f9-40fe-b914-d2be59418971",
   "metadata": {},
   "outputs": [
    {
     "name": "stdout",
     "output_type": "stream",
     "text": [
      "        age       sex       bmi        bp        s1        s2        s3  \\\n",
      "0  0.038076  0.050680  0.061696  0.021872 -0.044223 -0.034821 -0.043401   \n",
      "1 -0.001882 -0.044642 -0.051474 -0.026328 -0.008449 -0.019163  0.074412   \n",
      "2  0.085299  0.050680  0.044451 -0.005670 -0.045599 -0.034194 -0.032356   \n",
      "3 -0.089063 -0.044642 -0.011595 -0.036656  0.012191  0.024991 -0.036038   \n",
      "4  0.005383 -0.044642 -0.036385  0.021872  0.003935  0.015596  0.008142   \n",
      "\n",
      "         s4        s5        s6  target  \n",
      "0 -0.002592  0.019907 -0.017646   151.0  \n",
      "1 -0.039493 -0.068332 -0.092204    75.0  \n",
      "2 -0.002592  0.002861 -0.025930   141.0  \n",
      "3  0.034309  0.022688 -0.009362   206.0  \n",
      "4 -0.002592 -0.031988 -0.046641   135.0  \n",
      "RMSE Ridge (L2): 53.78\n",
      "RMSE Lasso (L1): 53.71\n"
     ]
    },
    {
     "data": {
      "image/png": "[encoded data removed]",
      "text/plain": [
       "<Figure size 1200x500 with 2 Axes>"
      ]
     },
     "metadata": {},
     "output_type": "display_data"
    }
   ],
   "source": [
    "# Importar librerías necesarias\n",
    "import numpy as np\n",
    "import matplotlib.pyplot as plt\n",
    "import seaborn as sns\n",
    "import pandas as pd\n",
    "from sklearn.linear_model import Ridge, Lasso\n",
    "from sklearn.datasets import load_diabetes\n",
    "from sklearn.model_selection import train_test_split\n",
    "from sklearn.preprocessing import StandardScaler\n",
    "from sklearn.metrics import mean_squared_error\n",
    "\n",
    "# Establecer estilo de gráficos con Seaborn\n",
    "sns.set(style=\"whitegrid\")\n",
    "\n",
    "# 1. Cargar el dataset de Diabetes\n",
    "diabetes = load_diabetes()\n",
    "X, y = diabetes.data, diabetes.target  # Variables predictoras y objetivo\n",
    "\n",
    "# 2. Convertir a DataFrame para mejor visualización\n",
    "df = pd.DataFrame(X, columns=diabetes.feature_names)\n",
    "df[\"target\"] = y\n",
    "\n",
    "# Mostrar las primeras filas del dataset\n",
    "print(df.head())\n",
    "\n",
    "# 3. Dividir en conjuntos de entrenamiento y prueba (80% - 20%)\n",
    "X_train, X_test, y_train, y_test = train_test_split(X, y, test_size=0.2, random_state=42)\n",
    "\n",
    "# 4. Estandarizar los datos para mejorar la estabilidad numérica\n",
    "scaler = StandardScaler()\n",
    "X_train_scaled = scaler.fit_transform(X_train)\n",
    "X_test_scaled = scaler.transform(X_test)\n",
    "\n",
    "# 5. Ajustar modelos Ridge (L2) y Lasso (L1)\n",
    "ridge = Ridge(alpha=1.0)  # Regularización L2\n",
    "lasso = Lasso(alpha=0.1)  # Regularización L1\n",
    "\n",
    "ridge.fit(X_train_scaled, y_train)\n",
    "lasso.fit(X_train_scaled, y_train)\n",
    "\n",
    "# 6. Evaluar los modelos con RMSE (Root Mean Squared Error)\n",
    "y_pred_ridge = ridge.predict(X_test_scaled)\n",
    "y_pred_lasso = lasso.predict(X_test_scaled)\n",
    "\n",
    "rmse_ridge = np.sqrt(mean_squared_error(y_test, y_pred_ridge))\n",
    "rmse_lasso = np.sqrt(mean_squared_error(y_test, y_pred_lasso))\n",
    "\n",
    "print(f\"RMSE Ridge (L2): {rmse_ridge:.2f}\")\n",
    "print(f\"RMSE Lasso (L1): {rmse_lasso:.2f}\")\n",
    "\n",
    "# 7. Graficar los coeficientes de Ridge y Lasso con colores pastel\n",
    "plt.figure(figsize=(12, 5))\n",
    "\n",
    "# Colores pastel personalizados\n",
    "ridge_color = \"#89CFF0\"  # Azul pastel\n",
    "lasso_color = \"#FFB6C1\"  # Rosa pastel\n",
    "\n",
    "plt.subplot(1, 2, 1)\n",
    "plt.bar(diabetes.feature_names, ridge.coef_, color=ridge_color)\n",
    "plt.xticks(rotation=45)\n",
    "plt.title(\"Coeficientes - Ridge (L2)\", fontsize=14)\n",
    "plt.xlabel(\"Variables\", fontsize=12)\n",
    "plt.ylabel(\"Coeficiente\", fontsize=12)\n",
    "\n",
    "plt.subplot(1, 2, 2)\n",
    "plt.bar(diabetes.feature_names, lasso.coef_, color=lasso_color)\n",
    "plt.xticks(rotation=45)\n",
    "plt.title(\"Coeficientes - Lasso (L1)\", fontsize=14)\n",
    "plt.xlabel(\"Variables\", fontsize=12)\n",
    "plt.ylabel(\"Coeficiente\", fontsize=12)\n",
    "\n",
    "plt.tight_layout()\n",
    "plt.show()"
   ]
  },
  {
   "cell_type": "markdown",
   "id": "3730c431-f74b-4e7f-bbad-a5b7334df1c5",
   "metadata": {},
   "source": [
    "$$\n",
    "\\mathcal{L}(\\beta) = \\sum_{i=1}^{n} \\left( y_i - \\hat{y}_i \\right)^2 + \\lambda \\sum_{j=1}^{d} \\beta_j^2\n",
    "$$"
   ]
  },
  {
   "cell_type": "code",
   "execution_count": null,
   "id": "e05df7ba-403f-47a7-9843-f2946f8ad086",
   "metadata": {},
   "outputs": [],
   "source": []
  }
 ],
 "metadata": {
  "kernelspec": {
   "display_name": "Python 3 (ipykernel)",
   "language": "python",
   "name": "python3"
  },
  "language_info": {
   "codemirror_mode": {
    "name": "ipython",
    "version": 3
   },
   "file_extension": ".py",
   "mimetype": "text/x-python",
   "name": "python",
   "nbconvert_exporter": "python",
   "pygments_lexer": "ipython3",
   "version": "3.12.8"
  },
  "widgets": {
   "application/vnd.jupyter.widget-state+json": {
    "state": {},
    "version_major": 2,
    "version_minor": 0
   }
  }
 },
 "nbformat": 4,
 "nbformat_minor": 5
}
